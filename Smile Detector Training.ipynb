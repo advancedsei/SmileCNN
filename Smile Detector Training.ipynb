{
 "cells": [
  {
   "cell_type": "code",
   "execution_count": 1,
   "metadata": {
    "collapsed": false
   },
   "outputs": [
    {
     "name": "stdout",
     "output_type": "stream",
     "text": [
      "float32 0.0 1.0 (13165, 32, 32)\n",
      "float32 0.0 1.0 (13165, 2)\n"
     ]
    }
   ],
   "source": [
    "# load the data\n",
    "import numpy as np\n",
    "X = np.load('X.npy')\n",
    "y = np.load('y.npy')\n",
    "\n",
    "# convert classes to vector\n",
    "from keras.utils import np_utils\n",
    "nb_classes = 2\n",
    "y = np_utils.to_categorical(y, nb_classes).astype(np.float32)\n",
    "\n",
    "# shuffle all the data\n",
    "indices = np.arange(len(X))\n",
    "np.random.shuffle(indices)\n",
    "X = X[indices]\n",
    "y = y[indices]\n",
    "\n",
    "# prepare weighting for classes since they're unbalanced\n",
    "class_totals = y.sum(axis=0)\n",
    "class_weight = class_totals.max() / class_totals\n",
    "\n",
    "print X.dtype, X.min(), X.max(), X.shape\n",
    "print y.dtype, y.min(), y.max(), y.shape"
   ]
  },
  {
   "cell_type": "code",
   "execution_count": 2,
   "metadata": {
    "collapsed": false
   },
   "outputs": [
    {
     "name": "stderr",
     "output_type": "stream",
     "text": [
      "Using Theano backend.\n",
      "Using gpu device 0: GeForce GT 750M (CNMeM is enabled with initial size: 75.0% of memory, CuDNN 4007)\n"
     ]
    }
   ],
   "source": [
    "from keras.models import Sequential\n",
    "from keras.layers.core import Dense, Dropout, Flatten, Reshape\n",
    "from keras.layers.normalization import BatchNormalization\n",
    "from keras.layers.convolutional import Convolution2D, MaxPooling2D"
   ]
  },
  {
   "cell_type": "code",
   "execution_count": 3,
   "metadata": {
    "collapsed": false
   },
   "outputs": [
    {
     "name": "stdout",
     "output_type": "stream",
     "text": [
      "____________________________________________________________________________________________________\n",
      "Layer (type)                       Output Shape        Param #     Connected to                     \n",
      "====================================================================================================\n",
      "reshape_1 (Reshape)                (None, 1, 32, 32)   0           reshape_input_1[0][0]            \n",
      "____________________________________________________________________________________________________\n",
      "convolution2d_1 (Convolution2D)    (None, 32, 30, 30)  320         reshape_1[0][0]                  \n",
      "____________________________________________________________________________________________________\n",
      "convolution2d_2 (Convolution2D)    (None, 32, 28, 28)  9248        convolution2d_1[0][0]            \n",
      "____________________________________________________________________________________________________\n",
      "maxpooling2d_1 (MaxPooling2D)      (None, 32, 14, 14)  0           convolution2d_2[0][0]            \n",
      "____________________________________________________________________________________________________\n",
      "dropout_1 (Dropout)                (None, 32, 14, 14)  0           maxpooling2d_1[0][0]             \n",
      "____________________________________________________________________________________________________\n",
      "flatten_1 (Flatten)                (None, 6272)        0           dropout_1[0][0]                  \n",
      "____________________________________________________________________________________________________\n",
      "dense_1 (Dense)                    (None, 128)         802944      flatten_1[0][0]                  \n",
      "____________________________________________________________________________________________________\n",
      "dropout_2 (Dropout)                (None, 128)         0           dense_1[0][0]                    \n",
      "____________________________________________________________________________________________________\n",
      "dense_2 (Dense)                    (None, 2)           258         dropout_2[0][0]                  \n",
      "====================================================================================================\n",
      "Total params: 812770\n",
      "____________________________________________________________________________________________________\n"
     ]
    }
   ],
   "source": [
    "img_rows, img_cols = X.shape[1:]\n",
    "nb_filters = 32\n",
    "nb_pool = 2\n",
    "nb_conv = 3\n",
    "\n",
    "model = Sequential()\n",
    "\n",
    "model.add(Reshape((1, img_rows, img_cols), input_shape=(img_rows, img_cols)))\n",
    "model.add(Convolution2D(nb_filters, nb_conv, nb_conv, activation='relu'))\n",
    "model.add(Convolution2D(nb_filters, nb_conv, nb_conv, activation='relu'))\n",
    "model.add(MaxPooling2D(pool_size=(nb_pool, nb_pool)))\n",
    "model.add(Dropout(0.25))\n",
    "\n",
    "model.add(Flatten())\n",
    "model.add(Dense(128, activation='relu'))\n",
    "model.add(Dropout(0.5))\n",
    "model.add(Dense(nb_classes, activation='softmax'))\n",
    "\n",
    "model.compile(loss='categorical_crossentropy', optimizer='adam', metrics=['accuracy'])\n",
    "model.summary()"
   ]
  },
  {
   "cell_type": "code",
   "execution_count": 4,
   "metadata": {
    "collapsed": false
   },
   "outputs": [
    {
     "name": "stdout",
     "output_type": "stream",
     "text": [
      "Train on 11848 samples, validate on 1317 samples\n",
      "Epoch 1/10\n",
      "11848/11848 [==============================] - 7s - loss: 0.5614 - acc: 0.7064 - val_loss: 0.4195 - val_acc: 0.7403\n",
      "Epoch 2/10\n",
      "11848/11848 [==============================] - 6s - loss: 0.3737 - acc: 0.8369 - val_loss: 0.3016 - val_acc: 0.8853\n",
      "Epoch 3/10\n",
      "11848/11848 [==============================] - 6s - loss: 0.3214 - acc: 0.8669 - val_loss: 0.2733 - val_acc: 0.8967\n",
      "Epoch 4/10\n",
      "11848/11848 [==============================] - 6s - loss: 0.2967 - acc: 0.8817 - val_loss: 0.2522 - val_acc: 0.9074\n",
      "Epoch 5/10\n",
      "11848/11848 [==============================] - 6s - loss: 0.2696 - acc: 0.8920 - val_loss: 0.2441 - val_acc: 0.9112\n",
      "Epoch 6/10\n",
      "11848/11848 [==============================] - 6s - loss: 0.2612 - acc: 0.8948 - val_loss: 0.2356 - val_acc: 0.9127\n",
      "Epoch 7/10\n",
      "11848/11848 [==============================] - 6s - loss: 0.2453 - acc: 0.9030 - val_loss: 0.2277 - val_acc: 0.9142\n",
      "Epoch 8/10\n",
      "11848/11848 [==============================] - 6s - loss: 0.2361 - acc: 0.9112 - val_loss: 0.2283 - val_acc: 0.9074\n",
      "Epoch 9/10\n",
      "11848/11848 [==============================] - 6s - loss: 0.2247 - acc: 0.9135 - val_loss: 0.2227 - val_acc: 0.9172\n",
      "Epoch 10/10\n",
      "11848/11848 [==============================] - 6s - loss: 0.2131 - acc: 0.9180 - val_loss: 0.2254 - val_acc: 0.9089\n"
     ]
    },
    {
     "data": {
      "text/plain": [
       "<keras.callbacks.History at 0x11cd8cb90>"
      ]
     },
     "execution_count": 4,
     "metadata": {},
     "output_type": "execute_result"
    }
   ],
   "source": [
    "model.fit(X, y, batch_size=128, class_weight=class_weight, nb_epoch=10, verbose=1, validation_split=0.1)"
   ]
  },
  {
   "cell_type": "code",
   "execution_count": 5,
   "metadata": {
    "collapsed": false
   },
   "outputs": [],
   "source": [
    "open('model.json', 'w').write(model.to_json())\n",
    "model.save_weights('weights.h5')"
   ]
  },
  {
   "cell_type": "code",
   "execution_count": 6,
   "metadata": {
    "collapsed": false
   },
   "outputs": [
    {
     "data": {
      "image/png": "[encoded data removed]",
      "text/plain": [
       "<matplotlib.figure.Figure at 0x11a2f8290>"
      ]
     },
     "metadata": {},
     "output_type": "display_data"
    }
   ],
   "source": [
    "%matplotlib inline\n",
    "from matplotlib import pyplot as plt\n",
    "plt.plot(model.model.history.history['loss'])\n",
    "plt.plot(model.model.history.history['acc'])\n",
    "plt.plot(model.model.history.history['val_loss'])\n",
    "plt.plot(model.model.history.history['val_acc'])\n",
    "plt.show()"
   ]
  }
 ],
 "metadata": {
  "kernelspec": {
   "display_name": "Python 2",
   "language": "python",
   "name": "python2"
  },
  "language_info": {
   "codemirror_mode": {
    "name": "ipython",
    "version": 2
   },
   "file_extension": ".py",
   "mimetype": "text/x-python",
   "name": "python",
   "nbconvert_exporter": "python",
   "pygments_lexer": "ipython2",
   "version": "2.7.11"
  }
 },
 "nbformat": 4,
 "nbformat_minor": 0
}
