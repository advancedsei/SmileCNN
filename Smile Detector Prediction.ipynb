{
 "cells": [
  {
   "cell_type": "code",
   "execution_count": 1,
   "metadata": {
    "collapsed": false
   },
   "outputs": [
    {
     "name": "stderr",
     "output_type": "stream",
     "text": [
      "Using Theano backend.\n",
      "Using gpu device 0: GeForce GT 750M (CNMeM is enabled with initial size: 75.0% of memory, CuDNN 4007)\n"
     ]
    }
   ],
   "source": [
    "import keras\n",
    "from keras.models import model_from_json\n",
    "model = model_from_json(open('model.json').read())\n",
    "model.load_weights('weights.h5')\n",
    "model.compile(loss='categorical_crossentropy', optimizer='adam')"
   ]
  },
  {
   "cell_type": "code",
   "execution_count": 2,
   "metadata": {
    "collapsed": false
   },
   "outputs": [
    {
     "name": "stdout",
     "output_type": "stream",
     "text": [
      "32 32\n"
     ]
    }
   ],
   "source": [
    "img_rows, img_cols = model.input_shape[1:]\n",
    "print img_rows, img_cols"
   ]
  },
  {
   "cell_type": "code",
   "execution_count": 6,
   "metadata": {
    "collapsed": false
   },
   "outputs": [
    {
     "name": "stdout",
     "output_type": "stream",
     "text": [
      "Stopped\n"
     ]
    }
   ],
   "source": [
    "from IPython.display import clear_output\n",
    "from time import time\n",
    "from utils import show_array\n",
    "import numpy as np\n",
    "import zmq\n",
    "\n",
    "bar_width = 50\n",
    "display_rate = 1./10\n",
    "addr = 'tcp://localhost:14000'\n",
    "\n",
    "context = zmq.Context()\n",
    "subs = context.socket(zmq.SUB)\n",
    "subs.setsockopt(zmq.SUBSCRIBE, '')\n",
    "subs.connect(addr)\n",
    "start = time()\n",
    "previous = 0\n",
    "try:\n",
    "    while True:\n",
    "        raw = subs.recv()\n",
    "        duration = (time() - start) % display_rate\n",
    "        if duration < previous:\n",
    "            data = np.fromstring(raw, dtype=np.uint8).reshape(img_rows, img_cols)\n",
    "#             show_array(data)\n",
    "            data = data.astype(np.float32).reshape(1, img_rows, img_cols) / 255.\n",
    "            prediction = model.predict(data)[0]\n",
    "            neutral_prob, smiling_prob = prediction\n",
    "            weighted = smiling_prob / prediction.sum()\n",
    "            left_side = ''.join(['-'] * int(bar_width * weighted))\n",
    "            right_side = ''.join(['-'] * int(bar_width - (bar_width * weighted)))\n",
    "            print 'Neutral', left_side, '###', right_side, 'Smiling'\n",
    "            clear_output(wait=True)\n",
    "        previous = duration\n",
    "except:\n",
    "    print 'Stopped'\n",
    "    pass"
   ]
  }
 ],
 "metadata": {
  "kernelspec": {
   "display_name": "Python 2",
   "language": "python",
   "name": "python2"
  },
  "language_info": {
   "codemirror_mode": {
    "name": "ipython",
    "version": 2
   },
   "file_extension": ".py",
   "mimetype": "text/x-python",
   "name": "python",
   "nbconvert_exporter": "python",
   "pygments_lexer": "ipython2",
   "version": "2.7.11"
  }
 },
 "nbformat": 4,
 "nbformat_minor": 0
}
