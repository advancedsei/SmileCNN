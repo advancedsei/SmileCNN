{
 "cells": [
  {
   "cell_type": "markdown",
   "metadata": {},
   "source": [
    "Now we load the model we trained in the last step. If you're using a GPU, this will start it up, which can take a moment."
   ]
  },
  {
   "cell_type": "code",
   "execution_count": 1,
   "metadata": {
    "collapsed": false
   },
   "outputs": [
    {
     "name": "stderr",
     "output_type": "stream",
     "text": [
      "Using Theano backend.\n",
      "Using gpu device 0: GeForce GT 750M (CNMeM is enabled with initial size: 75.0% of memory, CuDNN 4007)\n"
     ]
    }
   ],
   "source": [
    "import keras\n",
    "from keras.models import model_from_json\n",
    "model = model_from_json(open('model.json').read())\n",
    "model.load_weights('weights.h5')\n",
    "model.compile(loss='categorical_crossentropy', optimizer='adam')"
   ]
  },
  {
   "cell_type": "markdown",
   "metadata": {},
   "source": [
    "Let's test the model by defining a function that evaluates a single image and prints a corresponding indicator."
   ]
  },
  {
   "cell_type": "code",
   "execution_count": 2,
   "metadata": {
    "collapsed": false
   },
   "outputs": [],
   "source": [
    "import numpy as np\n",
    "def print_indicator(data, model, class_names, bar_width=50):\n",
    "    probabilities = model.predict(np.array([data]))[0]\n",
    "    left_side = '-' * int(probabilities[1] * bar_width)\n",
    "    right_side = '-' * int(probabilities[0] * bar_width)\n",
    "    print class_names[0], left_side + '###' + right_side, class_names[1]"
   ]
  },
  {
   "cell_type": "markdown",
   "metadata": {},
   "source": [
    "We'll test it on one image from our data set."
   ]
  },
  {
   "cell_type": "code",
   "execution_count": 3,
   "metadata": {
    "collapsed": false
   },
   "outputs": [
    {
     "data": {
      "image/png": "[encoded data removed]",
      "text/plain": [
       "<IPython.core.display.Image object>"
      ]
     },
     "metadata": {},
     "output_type": "display_data"
    },
    {
     "name": "stdout",
     "output_type": "stream",
     "text": [
      "Neutral ---------###---------------------------------------- Smiling\n"
     ]
    }
   ],
   "source": [
    "from utils import show_array\n",
    "X = np.load('X.npy')\n",
    "class_names = ['Neutral', 'Smiling']\n",
    "show_array(255 * X[2])\n",
    "print_indicator(X[2], model, class_names)"
   ]
  },
  {
   "cell_type": "markdown",
   "metadata": {},
   "source": [
    "Finally, we wait for video input with zmq, processing one frame every `display_rate` seconds. This should be running at the same time as the `ZMQVideoInput` app."
   ]
  },
  {
   "cell_type": "code",
   "execution_count": null,
   "metadata": {
    "collapsed": false
   },
   "outputs": [
    {
     "name": "stdout",
     "output_type": "stream",
     "text": [
      "Neutral --(#)----------------------------------------------- Smiling\n"
     ]
    }
   ],
   "source": [
    "from IPython.display import clear_output\n",
    "from time import time\n",
    "import zmq\n",
    "\n",
    "bar_width = 50\n",
    "display_rate = 1./10\n",
    "addr = 'tcp://localhost:14000'\n",
    "\n",
    "img_rows, img_cols = model.input_shape[1:]\n",
    "\n",
    "context = zmq.Context()\n",
    "subs = context.socket(zmq.SUB)\n",
    "subs.setsockopt(zmq.SUBSCRIBE, '')\n",
    "subs.connect(addr)\n",
    "start = time()\n",
    "previous = 0\n",
    "try:\n",
    "    while True:\n",
    "        raw = subs.recv()\n",
    "        duration = (time() - start) % display_rate\n",
    "        if duration < previous:\n",
    "            data = np.fromstring(raw, dtype=np.uint8).reshape(img_rows, img_cols)\n",
    "#             show_array(data) # uncomment this to see the image\n",
    "            data = data.astype(np.float) / 255.\n",
    "            print_indicator(data, model, class_names)\n",
    "            clear_output(wait=True)\n",
    "        previous = duration\n",
    "except KeyboardInterrupt:\n",
    "    pass"
   ]
  },
  {
   "cell_type": "code",
   "execution_count": null,
   "metadata": {
    "collapsed": true
   },
   "outputs": [],
   "source": []
  }
 ],
 "metadata": {
  "kernelspec": {
   "display_name": "Python 2",
   "language": "python",
   "name": "python2"
  },
  "language_info": {
   "codemirror_mode": {
    "name": "ipython",
    "version": 2
   },
   "file_extension": ".py",
   "mimetype": "text/x-python",
   "name": "python",
   "nbconvert_exporter": "python",
   "pygments_lexer": "ipython2",
   "version": "2.7.11"
  }
 },
 "nbformat": 4,
 "nbformat_minor": 0
}
